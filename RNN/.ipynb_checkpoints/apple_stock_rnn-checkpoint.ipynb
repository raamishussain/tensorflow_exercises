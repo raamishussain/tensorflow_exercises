{
 "cells": [
  {
   "cell_type": "markdown",
   "metadata": {},
   "source": [
    "# Apple Stock Price Prediction Using an RNN\n",
    "\n",
    "In this notebook I will implement a recurrent neural network to try and predict the \n",
    "stock price of Apple. The stock price data was taken from yahoo.com\n"
   ]
  },
  {
   "cell_type": "code",
   "execution_count": 1,
   "metadata": {},
   "outputs": [],
   "source": [
    "import numpy as np \n",
    "import pandas as pd\n",
    "import tensorflow as tf\n",
    "import matplotlib.pyplot as plt\n",
    "%matplotlib inline\n",
    "from sklearn.preprocessing import MinMaxScaler\n",
    "\n",
    "import matplotlib\n",
    "matplotlib.rcParams.update({'font.size': 14})"
   ]
  },
  {
   "cell_type": "code",
   "execution_count": 2,
   "metadata": {},
   "outputs": [
    {
     "data": {
      "text/html": [
       "<div>\n",
       "<style scoped>\n",
       "    .dataframe tbody tr th:only-of-type {\n",
       "        vertical-align: middle;\n",
       "    }\n",
       "\n",
       "    .dataframe tbody tr th {\n",
       "        vertical-align: top;\n",
       "    }\n",
       "\n",
       "    .dataframe thead th {\n",
       "        text-align: right;\n",
       "    }\n",
       "</style>\n",
       "<table border=\"1\" class=\"dataframe\">\n",
       "  <thead>\n",
       "    <tr style=\"text-align: right;\">\n",
       "      <th></th>\n",
       "      <th>Date</th>\n",
       "      <th>Open</th>\n",
       "      <th>High</th>\n",
       "      <th>Low</th>\n",
       "      <th>Close</th>\n",
       "      <th>Volume</th>\n",
       "    </tr>\n",
       "  </thead>\n",
       "  <tbody>\n",
       "    <tr>\n",
       "      <th>4</th>\n",
       "      <td>7-Aug-17</td>\n",
       "      <td>157.06</td>\n",
       "      <td>158.92</td>\n",
       "      <td>156.67</td>\n",
       "      <td>158.81</td>\n",
       "      <td>21870321</td>\n",
       "    </tr>\n",
       "    <tr>\n",
       "      <th>3</th>\n",
       "      <td>8-Aug-17</td>\n",
       "      <td>158.60</td>\n",
       "      <td>161.83</td>\n",
       "      <td>158.27</td>\n",
       "      <td>160.08</td>\n",
       "      <td>36205896</td>\n",
       "    </tr>\n",
       "    <tr>\n",
       "      <th>2</th>\n",
       "      <td>9-Aug-17</td>\n",
       "      <td>159.26</td>\n",
       "      <td>161.27</td>\n",
       "      <td>159.11</td>\n",
       "      <td>161.06</td>\n",
       "      <td>26131530</td>\n",
       "    </tr>\n",
       "    <tr>\n",
       "      <th>1</th>\n",
       "      <td>10-Aug-17</td>\n",
       "      <td>159.90</td>\n",
       "      <td>160.00</td>\n",
       "      <td>154.63</td>\n",
       "      <td>155.32</td>\n",
       "      <td>40804273</td>\n",
       "    </tr>\n",
       "    <tr>\n",
       "      <th>0</th>\n",
       "      <td>11-Aug-17</td>\n",
       "      <td>156.60</td>\n",
       "      <td>158.57</td>\n",
       "      <td>156.07</td>\n",
       "      <td>157.48</td>\n",
       "      <td>26257096</td>\n",
       "    </tr>\n",
       "  </tbody>\n",
       "</table>\n",
       "</div>"
      ],
      "text/plain": [
       "        Date    Open    High     Low   Close    Volume\n",
       "4   7-Aug-17  157.06  158.92  156.67  158.81  21870321\n",
       "3   8-Aug-17  158.60  161.83  158.27  160.08  36205896\n",
       "2   9-Aug-17  159.26  161.27  159.11  161.06  26131530\n",
       "1  10-Aug-17  159.90  160.00  154.63  155.32  40804273\n",
       "0  11-Aug-17  156.60  158.57  156.07  157.48  26257096"
      ]
     },
     "execution_count": 2,
     "metadata": {},
     "output_type": "execute_result"
    }
   ],
   "source": [
    "# For this example we will only try to predict the closing price\n",
    "apple_data = pd.read_csv('apple_share_price.csv')\n",
    "apple_data = apple_data.reindex(index = apple_data.index[::-1])\n",
    "price = apple_data['Close']\n",
    "apple_data.tail()"
   ]
  },
  {
   "cell_type": "code",
   "execution_count": 3,
   "metadata": {},
   "outputs": [
    {
     "data": {
      "image/png": "[encoded data removed]",
      "text/plain": [
       "<Figure size 432x288 with 1 Axes>"
      ]
     },
     "metadata": {
      "needs_background": "light"
     },
     "output_type": "display_data"
    }
   ],
   "source": [
    "# Plot the closing price\n",
    "# We will ignore the actual dates and just use the index as the time value\n",
    "time = np.arange(price.size)\n",
    "plt.plot(time,price,lw=1.5)\n",
    "plt.xlabel('Time (days)')\n",
    "plt.ylabel('Price (Dollars)')\n",
    "plt.title('Apple Closing Share Price')\n",
    "plt.show()"
   ]
  },
  {
   "cell_type": "code",
   "execution_count": 4,
   "metadata": {},
   "outputs": [],
   "source": [
    "# Function for creating batches of training data\n",
    "def next_batch(dataset,step_size,test_size):\n",
    "    r''' Function to create random batches of training and \n",
    "    testing data from provided dataset.\n",
    "    \n",
    "    Parameters:\n",
    "    -----------\n",
    "    dataset: array\n",
    "        1D array of time series data\n",
    "    batch_size:\n",
    "        number of batches to return\n",
    "    step_size:\n",
    "        number of time steps for each batch\n",
    "    test_size:\n",
    "        Size of test data to avoid when generating \n",
    "        training batches\n",
    "    \n",
    "    Returns:\n",
    "    --------\n",
    "    train_batch:\n",
    "        1D array of data for training\n",
    "    train_label:\n",
    "        1D array of values to predict during training\n",
    "    '''\n",
    "    \n",
    "    # Choose random starting day but avoid choosing values\n",
    "    # in the last 50 days because we want extra test data to play with\n",
    "    day = np.random.randint(0,dataset.size-(test_size+step_size))\n",
    "    \n",
    "    # Get batch based on step size\n",
    "    batch = np.array(dataset[day:day+step_size+test_size])\n",
    "    \n",
    "    return batch[:-test_size].reshape(-1,step_size,1), batch[test_size:].reshape(-1,step_size,1)"
   ]
  },
  {
   "cell_type": "markdown",
   "metadata": {},
   "source": [
    "## Create Training and Testing sets\n",
    "\n",
    "For this example we will leave the last 50days of closing price for predictions. "
   ]
  },
  {
   "cell_type": "code",
   "execution_count": 5,
   "metadata": {},
   "outputs": [],
   "source": [
    "# Convert pandas to numpy arrays for convenience \n",
    "train_data = price[:-50].to_numpy()\n",
    "test_data  = price[-50:].to_numpy()\n",
    "\n",
    "# Reshape arrays for preprocessing and training\n",
    "train_data = train_data.reshape(-1,1)\n",
    "test_data  = test_data.reshape(-1,1)"
   ]
  },
  {
   "cell_type": "code",
   "execution_count": 6,
   "metadata": {},
   "outputs": [],
   "source": [
    "# Transform and fit the training data. Only transform testing data\n",
    "scaler = MinMaxScaler()\n",
    "train_data_scaled = scaler.fit_transform(train_data)\n",
    "test_data_scaled  = scaler.transform(test_data)\n"
   ]
  },
  {
   "cell_type": "code",
   "execution_count": 7,
   "metadata": {},
   "outputs": [
    {
     "name": "stdout",
     "output_type": "stream",
     "text": [
      "(1000, 50, 1)\n"
     ]
    }
   ],
   "source": [
    "# Create array of batches of time series data to feed to our model\n",
    "x_data = []\n",
    "y_data = []\n",
    "\n",
    "batch_size = 1000 # Choose how many batches we want to train with\n",
    "for i in range(batch_size):\n",
    "    x_batch, y_batch = next_batch(train_data_scaled,50,5)\n",
    "    x_data.append(x_batch)\n",
    "    y_data.append(y_batch)\n",
    "\n",
    "x_data = np.array(x_data)\n",
    "x_data = np.reshape(x_data, (-1, 50, 1))\n",
    "y_data = np.array(y_data)\n",
    "y_data = np.reshape(y_data, (-1, 50, 1))\n",
    "print(x_data.shape)"
   ]
  },
  {
   "cell_type": "markdown",
   "metadata": {},
   "source": [
    "## Create RNN Model"
   ]
  },
  {
   "cell_type": "code",
   "execution_count": 12,
   "metadata": {},
   "outputs": [],
   "source": [
    "model = tf.keras.Sequential()\n",
    "model.add(tf.keras.layers.LSTM(55,input_shape=(50,1),return_sequences = True))\n",
    "model.add(tf.keras.layers.Dense(1,activation='relu'))\n",
    "model.compile(loss='mean_squared_error',\n",
    "              optimizer=tf.keras.optimizers.Adam(0.01))"
   ]
  },
  {
   "cell_type": "code",
   "execution_count": 13,
   "metadata": {},
   "outputs": [
    {
     "data": {
      "text/plain": [
       "<tensorflow.python.keras.callbacks.History at 0x14d95c0a0>"
      ]
     },
     "execution_count": 13,
     "metadata": {},
     "output_type": "execute_result"
    }
   ],
   "source": [
    "model.fit(x_data, y_data, epochs = 20, batch_size = 50,verbose=0)"
   ]
  },
  {
   "cell_type": "code",
   "execution_count": 17,
   "metadata": {},
   "outputs": [
    {
     "name": "stdout",
     "output_type": "stream",
     "text": [
      "(1, 50, 1)\n"
     ]
    }
   ],
   "source": [
    "pred = model.predict(test_data.reshape(-1,50,1))\n",
    "print(pred.shape)"
   ]
  },
  {
   "cell_type": "code",
   "execution_count": 20,
   "metadata": {},
   "outputs": [
    {
     "name": "stdout",
     "output_type": "stream",
     "text": [
      "[[831.6064 ]\n",
      " [908.0638 ]\n",
      " [920.3872 ]\n",
      " [922.42786]\n",
      " [922.87067]\n",
      " [923.1667 ]\n",
      " [923.3399 ]\n",
      " [923.3463 ]\n",
      " [923.40027]\n",
      " [923.4391 ]\n",
      " [923.5077 ]\n",
      " [923.3981 ]\n",
      " [923.4256 ]\n",
      " [923.40497]\n",
      " [923.41046]\n",
      " [923.3927 ]\n",
      " [923.40454]\n",
      " [923.46765]\n",
      " [923.4132 ]\n",
      " [923.4701 ]\n",
      " [923.4668 ]\n",
      " [923.4815 ]\n",
      " [923.46576]\n",
      " [923.5041 ]\n",
      " [923.4655 ]\n",
      " [923.43494]\n",
      " [923.41766]\n",
      " [923.40985]\n",
      " [923.3503 ]\n",
      " [923.3075 ]\n",
      " [923.28876]\n",
      " [923.2727 ]\n",
      " [923.24506]\n",
      " [923.2618 ]\n",
      " [923.2659 ]\n",
      " [923.2155 ]\n",
      " [923.1926 ]\n",
      " [923.1707 ]\n",
      " [923.2497 ]\n",
      " [923.288  ]\n",
      " [923.3139 ]\n",
      " [923.2787 ]\n",
      " [923.0791 ]\n",
      " [923.10236]\n",
      " [923.08344]\n",
      " [923.0182 ]\n",
      " [922.97974]\n",
      " [922.952  ]\n",
      " [923.10144]\n",
      " [923.0577 ]]\n",
      "[[155.45]\n",
      " [153.93]\n",
      " [154.45]\n",
      " [155.37]\n",
      " [154.99]\n",
      " [148.98]\n",
      " [145.42]\n",
      " [146.59]\n",
      " [145.16]\n",
      " [144.29]\n",
      " [142.27]\n",
      " [146.34]\n",
      " [145.01]\n",
      " [145.87]\n",
      " [145.63]\n",
      " [146.28]\n",
      " [145.82]\n",
      " [143.73]\n",
      " [145.83]\n",
      " [143.68]\n",
      " [144.02]\n",
      " [143.5 ]\n",
      " [144.09]\n",
      " [142.73]\n",
      " [144.18]\n",
      " [145.06]\n",
      " [145.53]\n",
      " [145.74]\n",
      " [147.77]\n",
      " [149.04]\n",
      " [149.56]\n",
      " [150.08]\n",
      " [151.02]\n",
      " [150.34]\n",
      " [150.27]\n",
      " [152.09]\n",
      " [152.74]\n",
      " [153.46]\n",
      " [150.56]\n",
      " [149.5 ]\n",
      " [148.73]\n",
      " [150.05]\n",
      " [157.14]\n",
      " [155.57]\n",
      " [156.39]\n",
      " [158.81]\n",
      " [160.08]\n",
      " [161.06]\n",
      " [155.32]\n",
      " [157.48]]\n"
     ]
    }
   ],
   "source": [
    "pred = scaler.inverse_transform(pred.reshape(50,1))\n",
    "testing = scaler.inverse_transform(test_data)\n",
    "print(pred)\n",
    "print(test_data)"
   ]
  },
  {
   "cell_type": "code",
   "execution_count": null,
   "metadata": {},
   "outputs": [],
   "source": []
  },
  {
   "cell_type": "code",
   "execution_count": null,
   "metadata": {},
   "outputs": [],
   "source": []
  }
 ],
 "metadata": {
  "kernelspec": {
   "display_name": "Python 3",
   "language": "python",
   "name": "python3"
  },
  "language_info": {
   "codemirror_mode": {
    "name": "ipython",
    "version": 3
   },
   "file_extension": ".py",
   "mimetype": "text/x-python",
   "name": "python",
   "nbconvert_exporter": "python",
   "pygments_lexer": "ipython3",
   "version": "3.8.5"
  }
 },
 "nbformat": 4,
 "nbformat_minor": 4
}
